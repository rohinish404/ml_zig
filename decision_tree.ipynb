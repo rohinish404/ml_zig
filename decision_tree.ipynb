{
 "cells": [
  {
   "cell_type": "code",
   "execution_count": 35,
   "id": "fc82945f-b4fa-4b24-bf4d-1be12f8cfefe",
   "metadata": {},
   "outputs": [],
   "source": [
    "import numpy as np\n",
    "from collections import Counter\n",
    "import math\n",
    "def _entropy( class_probabilities: list) -> float:\n",
    "    return sum([-p * np.log2(p) for p in class_probabilities if p>0])\n",
    "    \n",
    "def _class_probabilities( labels: list) -> list:\n",
    "    total_count = len(labels)\n",
    "    return [label_count / total_count for label_count in Counter(labels).values()]\n",
    "\n",
    "def _data_entropy(labels: list) -> float:\n",
    "    return _entropy(_class_probabilities(labels))\n",
    "    "
   ]
  },
  {
   "cell_type": "code",
   "execution_count": 36,
   "id": "aa617965-7bb0-4f5f-bc85-867f18204a2f",
   "metadata": {},
   "outputs": [
    {
     "data": {
      "text/plain": [
       "1.9219280948873623"
      ]
     },
     "execution_count": 36,
     "metadata": {},
     "output_type": "execute_result"
    }
   ],
   "source": [
    "_data_entropy([0.1,0.1,0.5,0.2,0.3])"
   ]
  },
  {
   "cell_type": "code",
   "execution_count": 37,
   "id": "e6cc2fe4-3298-48dc-908b-279c943a2318",
   "metadata": {},
   "outputs": [],
   "source": [
    " def _partition_entropy( subsets: list) -> float:\n",
    "        \"\"\"subsets = list of label lists (EX: [[1,0,0], [1,1,1])\"\"\"\n",
    "        total_count = sum([len(subset) for subset in subsets])\n",
    "        return sum([_data_entropy(subset) * (len(subset) / total_count) for subset in subsets])\n",
    "    "
   ]
  },
  {
   "cell_type": "code",
   "execution_count": 38,
   "id": "4446ec1a-617b-49fa-8a48-81f73b247c5a",
   "metadata": {},
   "outputs": [
    {
     "data": {
      "text/plain": [
       "0.4591479170272448"
      ]
     },
     "execution_count": 38,
     "metadata": {},
     "output_type": "execute_result"
    }
   ],
   "source": [
    "_partition_entropy([[1,0,0], [1,1,1]])\n"
   ]
  },
  {
   "cell_type": "code",
   "execution_count": 39,
   "id": "caa6b1f6-e905-49ee-9ab8-dd94aa9f9666",
   "metadata": {},
   "outputs": [],
   "source": [
    "from collections import defaultdict"
   ]
  },
  {
   "cell_type": "code",
   "execution_count": 40,
   "id": "39c7a7c8-f74d-4c3f-a539-c147373e0874",
   "metadata": {},
   "outputs": [],
   "source": [
    "def entropy(class_probabilities):\n",
    "    \"\"\"given a list of class probabilities, compute the entropy\"\"\" \n",
    "    return sum(-p * math.log(p, 2)\n",
    "        for p in class_probabilities if p)\n",
    "def class_probabilities(labels): \n",
    "    total_count = len(labels) \n",
    "    return [count / total_count\n",
    "        for count in Counter(labels).values()]\n",
    "def data_entropy(labeled_data):\n",
    "    labels = [label for _, label in labeled_data] \n",
    "    probabilities = class_probabilities(labels) \n",
    "    return entropy(probabilities)"
   ]
  },
  {
   "cell_type": "code",
   "execution_count": 41,
   "id": "00941165-c8e9-4e1c-b62c-d9636b508a09",
   "metadata": {},
   "outputs": [],
   "source": [
    "def partition_entropy(subsets):\n",
    "    \"\"\"find the entropy from this partition of data into subsets subsets is a list of lists of labeled data\"\"\"\n",
    "    total_count = sum(len(subset) for subset in subsets)\n",
    "    return sum( data_entropy(subset) * len(subset) / total_count for subset in subsets )"
   ]
  },
  {
   "cell_type": "code",
   "execution_count": 42,
   "id": "18692d29-1c28-424a-823e-7126aae6f0fc",
   "metadata": {},
   "outputs": [],
   "source": [
    "\n",
    "def partition_by(inputs, attribute):\n",
    "    \"\"\"each input is a pair (attribute_dict, label). returns a dict : attribute_value -> inputs\"\"\" \n",
    "    groups = defaultdict(list)\n",
    "    for input in inputs:\n",
    "        key = input[0][attribute]\n",
    "        groups[key].append(input) \n",
    "    return groups"
   ]
  },
  {
   "cell_type": "code",
   "execution_count": 46,
   "id": "6c418b04-6a12-4070-b3ce-a0f933c40646",
   "metadata": {},
   "outputs": [],
   "source": [
    " inputs = [\n",
    "        ({'level':'Senior', 'lang':'Java', 'tweets':'no', 'phd':'no'},False),\n",
    "        ({'level':'Senior', 'lang':'Java', 'tweets':'no', 'phd':'yes'},False),\n",
    "        ({'level':'Mid', 'lang':'Python', 'tweets':'no', 'phd':'no'},True),\n",
    "        ({'level':'Junior', 'lang':'Python', 'tweets':'no', 'phd':'no'},True),\n",
    "        ({'level':'Junior', 'lang':'R', 'tweets':'yes', 'phd':'no'},True),\n",
    "        ({'level':'Junior', 'lang':'R', 'tweets':'yes', 'phd':'yes'},False),\n",
    "        ({'level':'Mid', 'lang':'R', 'tweets':'yes', 'phd':'yes'},True),\n",
    "        ({'level':'Senior', 'lang':'Python', 'tweets':'no', 'phd':'no'},  False),\n",
    "        ({'level':'Senior', 'lang':'R', 'tweets':'yes', 'phd':'no'},       True),\n",
    "        ({'level':'Junior', 'lang':'Python', 'tweets':'yes', 'phd':'no'},  True),\n",
    "        ({'level':'Senior', 'lang':'Python', 'tweets':'yes', 'phd':'yes'}, True),\n",
    "        ({'level':'Mid', 'lang':'Python', 'tweets':'no', 'phd':'yes'},     True),\n",
    "        ({'level':'Mid', 'lang':'Java', 'tweets':'yes', 'phd':'no'},       True),\n",
    "        ({'level':'Junior', 'lang':'Python', 'tweets':'no', 'phd':'yes'}, False)\n",
    "]"
   ]
  },
  {
   "cell_type": "code",
   "execution_count": 56,
   "id": "1a234507-d396-4c6e-87a6-0e8abdc6c798",
   "metadata": {},
   "outputs": [],
   "source": [
    "def partition_entropy_by(inputs, attribute):\n",
    "    \"\"\"computes the entropy corresponding to the given partition\"\"\" \n",
    "    partitions = partition_by(inputs, attribute)\n",
    "    return partition_entropy(partitions.values())\n"
   ]
  },
  {
   "cell_type": "code",
   "execution_count": 57,
   "id": "bd83dc51-036f-4d62-a3f8-108a231e0c23",
   "metadata": {},
   "outputs": [
    {
     "name": "stdout",
     "output_type": "stream",
     "text": [
      "level defaultdict(<class 'list'>, {'Senior': [({'level': 'Senior', 'lang': 'Java', 'tweets': 'no', 'phd': 'no'}, False), ({'level': 'Senior', 'lang': 'Java', 'tweets': 'no', 'phd': 'yes'}, False), ({'level': 'Senior', 'lang': 'Python', 'tweets': 'no', 'phd': 'no'}, False), ({'level': 'Senior', 'lang': 'R', 'tweets': 'yes', 'phd': 'no'}, True), ({'level': 'Senior', 'lang': 'Python', 'tweets': 'yes', 'phd': 'yes'}, True)], 'Mid': [({'level': 'Mid', 'lang': 'Python', 'tweets': 'no', 'phd': 'no'}, True), ({'level': 'Mid', 'lang': 'R', 'tweets': 'yes', 'phd': 'yes'}, True), ({'level': 'Mid', 'lang': 'Python', 'tweets': 'no', 'phd': 'yes'}, True), ({'level': 'Mid', 'lang': 'Java', 'tweets': 'yes', 'phd': 'no'}, True)], 'Junior': [({'level': 'Junior', 'lang': 'Python', 'tweets': 'no', 'phd': 'no'}, True), ({'level': 'Junior', 'lang': 'R', 'tweets': 'yes', 'phd': 'no'}, True), ({'level': 'Junior', 'lang': 'R', 'tweets': 'yes', 'phd': 'yes'}, False), ({'level': 'Junior', 'lang': 'Python', 'tweets': 'yes', 'phd': 'no'}, True), ({'level': 'Junior', 'lang': 'Python', 'tweets': 'no', 'phd': 'yes'}, False)]})\n",
      "lang defaultdict(<class 'list'>, {'Java': [({'level': 'Senior', 'lang': 'Java', 'tweets': 'no', 'phd': 'no'}, False), ({'level': 'Senior', 'lang': 'Java', 'tweets': 'no', 'phd': 'yes'}, False), ({'level': 'Mid', 'lang': 'Java', 'tweets': 'yes', 'phd': 'no'}, True)], 'Python': [({'level': 'Mid', 'lang': 'Python', 'tweets': 'no', 'phd': 'no'}, True), ({'level': 'Junior', 'lang': 'Python', 'tweets': 'no', 'phd': 'no'}, True), ({'level': 'Senior', 'lang': 'Python', 'tweets': 'no', 'phd': 'no'}, False), ({'level': 'Junior', 'lang': 'Python', 'tweets': 'yes', 'phd': 'no'}, True), ({'level': 'Senior', 'lang': 'Python', 'tweets': 'yes', 'phd': 'yes'}, True), ({'level': 'Mid', 'lang': 'Python', 'tweets': 'no', 'phd': 'yes'}, True), ({'level': 'Junior', 'lang': 'Python', 'tweets': 'no', 'phd': 'yes'}, False)], 'R': [({'level': 'Junior', 'lang': 'R', 'tweets': 'yes', 'phd': 'no'}, True), ({'level': 'Junior', 'lang': 'R', 'tweets': 'yes', 'phd': 'yes'}, False), ({'level': 'Mid', 'lang': 'R', 'tweets': 'yes', 'phd': 'yes'}, True), ({'level': 'Senior', 'lang': 'R', 'tweets': 'yes', 'phd': 'no'}, True)]})\n",
      "tweets defaultdict(<class 'list'>, {'no': [({'level': 'Senior', 'lang': 'Java', 'tweets': 'no', 'phd': 'no'}, False), ({'level': 'Senior', 'lang': 'Java', 'tweets': 'no', 'phd': 'yes'}, False), ({'level': 'Mid', 'lang': 'Python', 'tweets': 'no', 'phd': 'no'}, True), ({'level': 'Junior', 'lang': 'Python', 'tweets': 'no', 'phd': 'no'}, True), ({'level': 'Senior', 'lang': 'Python', 'tweets': 'no', 'phd': 'no'}, False), ({'level': 'Mid', 'lang': 'Python', 'tweets': 'no', 'phd': 'yes'}, True), ({'level': 'Junior', 'lang': 'Python', 'tweets': 'no', 'phd': 'yes'}, False)], 'yes': [({'level': 'Junior', 'lang': 'R', 'tweets': 'yes', 'phd': 'no'}, True), ({'level': 'Junior', 'lang': 'R', 'tweets': 'yes', 'phd': 'yes'}, False), ({'level': 'Mid', 'lang': 'R', 'tweets': 'yes', 'phd': 'yes'}, True), ({'level': 'Senior', 'lang': 'R', 'tweets': 'yes', 'phd': 'no'}, True), ({'level': 'Junior', 'lang': 'Python', 'tweets': 'yes', 'phd': 'no'}, True), ({'level': 'Senior', 'lang': 'Python', 'tweets': 'yes', 'phd': 'yes'}, True), ({'level': 'Mid', 'lang': 'Java', 'tweets': 'yes', 'phd': 'no'}, True)]})\n",
      "phd defaultdict(<class 'list'>, {'no': [({'level': 'Senior', 'lang': 'Java', 'tweets': 'no', 'phd': 'no'}, False), ({'level': 'Mid', 'lang': 'Python', 'tweets': 'no', 'phd': 'no'}, True), ({'level': 'Junior', 'lang': 'Python', 'tweets': 'no', 'phd': 'no'}, True), ({'level': 'Junior', 'lang': 'R', 'tweets': 'yes', 'phd': 'no'}, True), ({'level': 'Senior', 'lang': 'Python', 'tweets': 'no', 'phd': 'no'}, False), ({'level': 'Senior', 'lang': 'R', 'tweets': 'yes', 'phd': 'no'}, True), ({'level': 'Junior', 'lang': 'Python', 'tweets': 'yes', 'phd': 'no'}, True), ({'level': 'Mid', 'lang': 'Java', 'tweets': 'yes', 'phd': 'no'}, True)], 'yes': [({'level': 'Senior', 'lang': 'Java', 'tweets': 'no', 'phd': 'yes'}, False), ({'level': 'Junior', 'lang': 'R', 'tweets': 'yes', 'phd': 'yes'}, False), ({'level': 'Mid', 'lang': 'R', 'tweets': 'yes', 'phd': 'yes'}, True), ({'level': 'Senior', 'lang': 'Python', 'tweets': 'yes', 'phd': 'yes'}, True), ({'level': 'Mid', 'lang': 'Python', 'tweets': 'no', 'phd': 'yes'}, True), ({'level': 'Junior', 'lang': 'Python', 'tweets': 'no', 'phd': 'yes'}, False)]})\n"
     ]
    }
   ],
   "source": [
    "for key in ['level','lang','tweets','phd']: \n",
    "    print (key, partition_by(inputs, key))"
   ]
  },
  {
   "cell_type": "code",
   "execution_count": 60,
   "id": "850c13df-ef6d-4a58-9561-573ab083576b",
   "metadata": {},
   "outputs": [],
   "source": [
    "from functools import partial\n",
    "def build_tree_id3(inputs, split_candidates=None):\n",
    "        if split_candidates is None:\n",
    "            split_candidates = inputs[0][0].keys()\n",
    "        num_inputs = len(inputs)\n",
    "        num_trues = len([label for item, label in inputs if label]) \n",
    "        num_falses = num_inputs - num_trues\n",
    "        if num_trues == 0: return False \n",
    "        if num_falses == 0: return True\n",
    "        if not split_candidates:\n",
    "            return num_trues >= num_falses # return the majority leaf\n",
    "                # otherwise, split on the best attribute\n",
    "        best_attribute = min(split_candidates,\n",
    "                                     key=partial(partition_entropy_by, inputs))\n",
    "        partitions = partition_by(inputs, best_attribute) \n",
    "        new_candidates = [a for a in split_candidates if a != best_attribute]\n",
    "        subtrees = { attribute_value : build_tree_id3(subset, new_candidates) for attribute_value, subset in partitions.items() }\n",
    "        subtrees[None] = num_trues > num_falses # default case return (best_attribute, subtrees)\n",
    "        return (best_attribute, subtrees)"
   ]
  },
  {
   "cell_type": "code",
   "execution_count": 61,
   "id": "29321fa5-24b0-4cc3-a5f1-7f837e5a790f",
   "metadata": {},
   "outputs": [],
   "source": [
    "tree = build_tree_id3(inputs)\n"
   ]
  },
  {
   "cell_type": "code",
   "execution_count": 62,
   "id": "a30dbed5-64fd-46fe-8eaa-60dcfff604e1",
   "metadata": {},
   "outputs": [
    {
     "data": {
      "text/plain": [
       "('level',\n",
       " {'Senior': ('tweets', {'no': False, 'yes': True, None: False}),\n",
       "  'Mid': True,\n",
       "  'Junior': ('phd', {'no': True, 'yes': False, None: True}),\n",
       "  None: True})"
      ]
     },
     "execution_count": 62,
     "metadata": {},
     "output_type": "execute_result"
    }
   ],
   "source": [
    "tree"
   ]
  },
  {
   "cell_type": "code",
   "execution_count": 69,
   "id": "4aa74276-034b-4c84-a5ff-5d33f1de0d85",
   "metadata": {},
   "outputs": [],
   "source": [
    "def classify(tree, input):\n",
    "    if tree in [True, False]: \n",
    "        return tree\n",
    "    attribute, subtree_dict = tree\n",
    "    subtree_key = input.get(attribute) \n",
    "    print(subtree_key)\n",
    "    if subtree_key not in subtree_dict:\n",
    "        subtree_key = None\n",
    "    subtree = subtree_dict[subtree_key]\n",
    "    print(subtree)\n",
    "    return classify(subtree, input)"
   ]
  },
  {
   "cell_type": "code",
   "execution_count": 70,
   "id": "1567a5e2-2946-4ba4-92d5-fde7ff01e025",
   "metadata": {},
   "outputs": [
    {
     "name": "stdout",
     "output_type": "stream",
     "text": [
      "Junior\n",
      "('phd', {'no': True, 'yes': False, None: True})\n",
      "no\n",
      "True\n"
     ]
    },
    {
     "data": {
      "text/plain": [
       "True"
      ]
     },
     "execution_count": 70,
     "metadata": {},
     "output_type": "execute_result"
    }
   ],
   "source": [
    "classify(tree, { \"level\" : \"Junior\",\n",
    "                 \"lang\" : \"Java\",\n",
    "                 \"tweets\" : \"yes\",\n",
    "                 \"phd\" : \"no\"} )"
   ]
  },
  {
   "cell_type": "code",
   "execution_count": null,
   "id": "3fb4fa81-07be-4a4b-9053-053d69d2b587",
   "metadata": {},
   "outputs": [],
   "source": []
  }
 ],
 "metadata": {
  "kernelspec": {
   "display_name": "Python 3 (ipykernel)",
   "language": "python",
   "name": "python3"
  },
  "language_info": {
   "codemirror_mode": {
    "name": "ipython",
    "version": 3
   },
   "file_extension": ".py",
   "mimetype": "text/x-python",
   "name": "python",
   "nbconvert_exporter": "python",
   "pygments_lexer": "ipython3",
   "version": "3.11.7"
  }
 },
 "nbformat": 4,
 "nbformat_minor": 5
}
